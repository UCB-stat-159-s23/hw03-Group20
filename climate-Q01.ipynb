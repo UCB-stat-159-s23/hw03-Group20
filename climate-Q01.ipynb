{
 "cells": [
  {
   "cell_type": "code",
   "execution_count": null,
   "id": "8cc3a006-592d-4a3e-a83f-a304c1805a32",
   "metadata": {},
   "outputs": [],
   "source": []
  }
 ],
 "metadata": {},
 "nbformat": 4,
 "nbformat_minor": 5
}
